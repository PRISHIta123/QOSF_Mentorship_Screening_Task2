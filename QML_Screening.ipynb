{
 "cells": [
  {
   "cell_type": "code",
   "execution_count": 3,
   "metadata": {},
   "outputs": [],
   "source": [
    "import qiskit as qk"
   ]
  },
  {
   "cell_type": "code",
   "execution_count": 5,
   "metadata": {},
   "outputs": [],
   "source": [
    "#Creating qubits\n",
    "\n",
    "q=qk.QuantumRegister(2)"
   ]
  },
  {
   "cell_type": "code",
   "execution_count": 6,
   "metadata": {},
   "outputs": [],
   "source": [
    "#Creating Classical Bits\n",
    "\n",
    "c=qk.ClassicalRegister(2)\n",
    "circuit=qk.QuantumCircuit(q,c)"
   ]
  },
  {
   "cell_type": "code",
   "execution_count": 7,
   "metadata": {},
   "outputs": [
    {
     "data": {
      "text/plain": [
       "<qiskit.circuit.instructionset.InstructionSet at 0x161ffd504c8>"
      ]
     },
     "execution_count": 7,
     "metadata": {},
     "output_type": "execute_result"
    }
   ],
   "source": [
    "#Hadamard Gate on first qubit (Outputs both possible states 0 and 1)\n",
    "\n",
    "circuit.h(q[0])"
   ]
  },
  {
   "cell_type": "code",
   "execution_count": 8,
   "metadata": {},
   "outputs": [
    {
     "data": {
      "text/plain": [
       "<qiskit.circuit.instructionset.InstructionSet at 0x161ffd56a88>"
      ]
     },
     "execution_count": 8,
     "metadata": {},
     "output_type": "execute_result"
    }
   ],
   "source": [
    "#CNOT Gate on the first and second qubits (Negates second state only if first state is 1)\n",
    "\n",
    "circuit.cx(q[0],q[1])"
   ]
  },
  {
   "cell_type": "code",
   "execution_count": 9,
   "metadata": {},
   "outputs": [
    {
     "name": "stdout",
     "output_type": "stream",
     "text": [
      "      ┌───┐     ┌─┐   \n",
      "q0_0: ┤ H ├──■──┤M├───\n",
      "      └───┘┌─┴─┐└╥┘┌─┐\n",
      "q0_1: ─────┤ X ├─╫─┤M├\n",
      "           └───┘ ║ └╥┘\n",
      "c0: 2/═══════════╩══╩═\n",
      "                 0  1 \n"
     ]
    }
   ],
   "source": [
    "#Measure and Display circuit with control bits\n",
    "\n",
    "circuit.measure(q,c)\n",
    "print(circuit)"
   ]
  },
  {
   "cell_type": "code",
   "execution_count": null,
   "metadata": {},
   "outputs": [],
   "source": []
  }
 ],
 "metadata": {
  "kernelspec": {
   "display_name": "Python 3",
   "language": "python",
   "name": "python3"
  },
  "language_info": {
   "codemirror_mode": {
    "name": "ipython",
    "version": 3
   },
   "file_extension": ".py",
   "mimetype": "text/x-python",
   "name": "python",
   "nbconvert_exporter": "python",
   "pygments_lexer": "ipython3",
   "version": "3.7.8"
  }
 },
 "nbformat": 4,
 "nbformat_minor": 2
}
