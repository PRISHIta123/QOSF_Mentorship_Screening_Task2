{
 "cells": [
  {
   "cell_type": "code",
   "execution_count": 35,
   "metadata": {},
   "outputs": [],
   "source": [
    "import qiskit as qk\n",
    "import tensorflow as tf\n",
    "from math import pi"
   ]
  },
  {
   "cell_type": "code",
   "execution_count": 36,
   "metadata": {},
   "outputs": [],
   "source": [
    "#Creating qubits\n",
    "\n",
    "q=qk.QuantumRegister(2)"
   ]
  },
  {
   "cell_type": "code",
   "execution_count": 37,
   "metadata": {},
   "outputs": [],
   "source": [
    "#Creating Classical Bits\n",
    "\n",
    "c=qk.ClassicalRegister(2)\n",
    "circuit=qk.QuantumCircuit(q,c)"
   ]
  },
  {
   "cell_type": "code",
   "execution_count": 38,
   "metadata": {},
   "outputs": [
    {
     "data": {
      "text/plain": [
       "<qiskit.circuit.instructionset.InstructionSet at 0x1a1a7fdf4c8>"
      ]
     },
     "execution_count": 38,
     "metadata": {},
     "output_type": "execute_result"
    }
   ],
   "source": [
    "#Hadamard Gate on first and second qubit (Outputs both possible states 0 and 1)\n",
    "#To get all possible input combinations |00>,|01>,|10>,|11>\n",
    "\n",
    "circuit.h(q[0])\n",
    "circuit.h(q[1])"
   ]
  },
  {
   "cell_type": "code",
   "execution_count": 39,
   "metadata": {},
   "outputs": [
    {
     "data": {
      "text/plain": [
       "<qiskit.circuit.instructionset.InstructionSet at 0x1a1a7fdfec8>"
      ]
     },
     "execution_count": 39,
     "metadata": {},
     "output_type": "execute_result"
    }
   ],
   "source": [
    "#Rotation Operation Ry along y-axis on first qubit \n",
    "theta=0\n",
    "circuit.ry(theta,q[0])"
   ]
  },
  {
   "cell_type": "code",
   "execution_count": 40,
   "metadata": {},
   "outputs": [
    {
     "data": {
      "text/plain": [
       "<qiskit.circuit.instructionset.InstructionSet at 0x1a1a7fe6588>"
      ]
     },
     "execution_count": 40,
     "metadata": {},
     "output_type": "execute_result"
    }
   ],
   "source": [
    "#CNOT Gate on the first to the second qubit (Negates second state only if first state is 1)\n",
    "circuit.cx(q[0],q[1])"
   ]
  },
  {
   "cell_type": "code",
   "execution_count": 41,
   "metadata": {},
   "outputs": [
    {
     "data": {
      "text/plain": [
       "<qiskit.circuit.instructionset.InstructionSet at 0x1a1a7fe6b08>"
      ]
     },
     "execution_count": 41,
     "metadata": {},
     "output_type": "execute_result"
    }
   ],
   "source": [
    "#Rotation Operation Rx along x-axis on second qubit \n",
    "circuit.rx(pi,q[1])"
   ]
  },
  {
   "cell_type": "code",
   "execution_count": null,
   "metadata": {},
   "outputs": [],
   "source": []
  },
  {
   "cell_type": "code",
   "execution_count": 42,
   "metadata": {},
   "outputs": [
    {
     "name": "stdout",
     "output_type": "stream",
     "text": [
      "      ┌───┐┌───────┐               ┌─┐   \n",
      "q5_0: ┤ H ├┤ RY(0) ├──■────────────┤M├───\n",
      "      ├───┤└───────┘┌─┴─┐┌────────┐└╥┘┌─┐\n",
      "q5_1: ┤ H ├─────────┤ X ├┤ RX(pi) ├─╫─┤M├\n",
      "      └───┘         └───┘└────────┘ ║ └╥┘\n",
      "c5: 2/══════════════════════════════╩══╩═\n",
      "                                    0  1 \n"
     ]
    }
   ],
   "source": [
    "#Measure and Display circuit with control bits\n",
    "\n",
    "circuit.measure(q,c)\n",
    "print(circuit)"
   ]
  },
  {
   "cell_type": "code",
   "execution_count": null,
   "metadata": {},
   "outputs": [],
   "source": []
  },
  {
   "cell_type": "code",
   "execution_count": 1,
   "metadata": {},
   "outputs": [],
   "source": []
  },
  {
   "cell_type": "code",
   "execution_count": null,
   "metadata": {},
   "outputs": [],
   "source": []
  }
 ],
 "metadata": {
  "kernelspec": {
   "display_name": "Python 3",
   "language": "python",
   "name": "python3"
  },
  "language_info": {
   "codemirror_mode": {
    "name": "ipython",
    "version": 3
   },
   "file_extension": ".py",
   "mimetype": "text/x-python",
   "name": "python",
   "nbconvert_exporter": "python",
   "pygments_lexer": "ipython3",
   "version": "3.7.8"
  }
 },
 "nbformat": 4,
 "nbformat_minor": 2
}
